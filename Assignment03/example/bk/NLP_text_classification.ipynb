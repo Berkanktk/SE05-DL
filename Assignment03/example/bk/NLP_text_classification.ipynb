{
 "cells": [
  {
   "cell_type": "markdown",
   "metadata": {
    "tags": []
   },
   "source": [
    "# Text classification\n",
    " - In this notebook we will create a deep learning classifier for text classification starting from raw text. We'll use the IMDB sentiment classification dataset (unprocessed version).\n",
    " - 1\\) Load data \n",
    " - 2\\) Preprocessing\n",
    " - 3\\) Data exploration\n",
    " - 4\\) Prepare input samples for input to neural networks\n",
    " - 5\\) Download and prepare pretrained word embeddings\n",
    " - 6\\) Train classifier\n",
    " - 7\\) Test on test set and analyze the results"
   ]
  },
  {
   "cell_type": "markdown",
   "metadata": {
    "tags": []
   },
   "source": [
    "## Load data"
   ]
  },
  {
   "cell_type": "code",
   "execution_count": 1,
   "metadata": {},
   "outputs": [
    {
     "name": "stdout",
     "output_type": "stream",
     "text": [
      "Number of training samples: 25000\n",
      "Number of test samples: 25000\n"
     ]
    }
   ],
   "source": [
    "# Load the IMDB data from your local directory\n",
    "\n",
    "# Mount drive if using Colab\n",
    "# from google.colab import drive\n",
    "# drive.mount('/content/drive')\n",
    "\n",
    "def load_data(path):\n",
    "    samples=[]\n",
    "    labels=[]\n",
    "    with open(path, encoding='utf8') as f:\n",
    "        for line in f:\n",
    "            labels.append(int(line[0])) #First char is the label (0=Negative, 1 = positive)\n",
    "            samples.append(line[2:-2]) #Append the text except for '\\n'-linebreaks\n",
    "    return labels, samples\n",
    "#Load x_train and y_train \n",
    "y_train, x_train = load_data('imdb_dataset_train.txt')\n",
    "#Load x_test and y_test\n",
    "y_test, x_test = load_data('imdb_dataset_test.txt')\n",
    "print('Number of training samples: {}\\nNumber of test samples: {}'.format(len(y_train), len(y_test)))\n",
    "#print(x_train[1])"
   ]
  },
  {
   "cell_type": "markdown",
   "metadata": {
    "tags": []
   },
   "source": [
    "## Preprocessing\n",
    " - Read through some samples - what do you see? Can we remove something to help our classifier?\n",
    " - Remember that you should only preprocess your data based on your findings of the training dataset. Why?"
   ]
  },
  {
   "cell_type": "code",
   "execution_count": 2,
   "metadata": {},
   "outputs": [
    {
     "name": "stdout",
     "output_type": "stream",
     "text": [
      "Bromwell High is a cartoon comedy. It ran at the same time as some other programs about school life, such as \"Teachers\". My 35 years in the teaching profession lead me to believe that Bromwell High's satire is much closer to reality than is \"Teachers\". The scramble to survive financially, the insightful students who can see right through their pathetic teachers' pomp, the pettiness of the whole situation, all remind me of the schools I knew and their students. When I saw the episode in which a student repeatedly tried to burn down the school, I immediately recalled ......... at .......... High. A classic line: INSPECTOR: I'm here to sack one of your teachers. STUDENT: Welcome to Bromwell High. I expect that many adults of my age think that Bromwell High is far fetched. What a pity that it isn't \n",
      "\n",
      "Homelessness (or Houselessness as George Carlin stated) has been an issue for years but never a plan to help those on the street that were once considered human who did everything from going to school, work, or vote for the matter. Most people think of the homeless as just a lost cause while worrying about things such as racism, the war on Iraq, pressuring kids to succeed, technology, the elections, inflation, or worrying if they'll be next to end up on the streets.<br /><br />But what if you were given a bet to live on the streets for a month without the luxuries you once had from a home, the entertainment sets, a bathroom, pictures on the wall, a computer, and everything you once treasure to see what it's like to be homeless? That is Goddard Bolt's lesson.<br /><br />Mel Brooks (who directs) who stars as Bolt plays a rich man who has everything in the world until deciding to make a bet with a sissy rival (Jeffery Tambor) to see if he can live in the streets for thirty days without the luxuries; if Bolt succeeds, he can do what he wants with a future project of making more buildings. The bet's on where Bolt is thrown on the street with a bracelet on his leg to monitor his every move where he can't step off the sidewalk. He's given the nickname Pepto by a vagrant after it's written on his forehead where Bolt meets other characters including a woman by the name of Molly (Lesley Ann Warren) an ex-dancer who got divorce before losing her home, and her pals Sailor (Howard Morris) and Fumes (Teddy Wilson) who are already used to the streets. They're survivors. Bolt isn't. He's not used to reaching mutual agreements like he once did when being rich where it's fight or flight, kill or be killed.<br /><br />While the love connection between Molly and Bolt wasn't necessary to plot, I found \"Life Stinks\" to be one of Mel Brooks' observant films where prior to being a comedy, it shows a tender side compared to his slapstick work such as Blazing Saddles, Young Frankenstein, or Spaceballs for the matter, to show what it's like having something valuable before losing it the next day or on the other hand making a stupid bet like all rich people do when they don't know what to do with their money. Maybe they should give it to the homeless instead of using it like Monopoly money.<br /><br />Or maybe this film will inspire you to help others \n",
      "\n",
      "Brilliant over-acting by Lesley Ann Warren. Best dramatic hobo lady I have ever seen, and love scenes in clothes warehouse are second to none. The corn on face is a classic, as good as anything in Blazing Saddles. The take on lawyers is also superb. After being accused of being a turncoat, selling out his boss, and being dishonest the lawyer of Pepto Bolt shrugs indifferently \"I'm a lawyer\" he says. Three funny words. Jeffrey Tambor, a favorite from the later Larry Sanders show, is fantastic here too as a mad millionaire who wants to crush the ghetto. His character is more malevolent than usual. The hospital scene, and the scene where the homeless invade a demolition site, are all-time classics. Look for the legs scene and the two big diggers fighting (one bleeds). This movie gets better each time I see it (which is quite often) \n",
      "\n"
     ]
    }
   ],
   "source": [
    "# Print some samples and read through. \n",
    "# How many samples should we read before making conclusions?\n",
    "for sample in x_train[0:3]:\n",
    "    print(sample,\"\\n\")"
   ]
  },
  {
   "cell_type": "code",
   "execution_count": 3,
   "metadata": {},
   "outputs": [
    {
     "name": "stdout",
     "output_type": "stream",
     "text": [
      "Original sentence: (I) will, preprocess <HTML /> +this!! noisy . sentence!\"# with a regular expression ..<HTML>...\n",
      "New sentence:      I will preprocess this noisy sentence with a regular expression\n"
     ]
    }
   ],
   "source": [
    "# Let's preprocess the text by removing special chars and string patterns\n",
    "# For this we will use Regular expressions (Regex) \n",
    "# There are many options when using Regex, and sometimes they can look quite confusing. They are, however, really efficient for preprocessing.  \n",
    "# In short: Define a list of chars that need to be removed within a '[]' called a character set. \n",
    "#           Different groups within a regex can be seperated by '|' a logical OR. \n",
    "#           What do we do if we want to remove the actual char '|' in a string? Insert a leading backslash '\\|'. \n",
    "# For more information: https://docs.python.org/3/library/re.html\n",
    "# For building a Rexex: https://regexr.com/\n",
    "\n",
    "#Example\n",
    "import re\n",
    "x = '(I) will, preprocess <HTML /> +this!! noisy . sentence!\"# with a regular expression ..<HTML>...'\n",
    "#We'll use 're.sub(pattern, repl, string)' for preprocessing. \n",
    "#                 Pattern: The pattern (defined by a regex) to be replaced\n",
    "#                 repl: The replacement value\n",
    "#                 string: string to process\n",
    "new_x = re.sub('[\\()!.,\\|\\+\"#]|<HTML />|<HTML>', '', x) #Remove single chars and string patterns\n",
    "new_x = re.sub('\\s+', ' ', new_x.strip()) #Removes superfluous spaces, '\\s' defines a space, '+' matches one or more of the preceding token, i.e. it matches multiple spaces\n",
    "print(\"Original sentence: {}\\nNew sentence:      {}\".format(x, new_x))"
   ]
  },
  {
   "cell_type": "code",
   "execution_count": 4,
   "metadata": {},
   "outputs": [
    {
     "name": "stdout",
     "output_type": "stream",
     "text": [
      "Bromwell High is a cartoon comedy It ran at the same time as some other programs about school life such as Teachers My 35 years in the teaching profession lead me to believe that Bromwell High's satire is much closer to reality than is Teachers The scramble to survive financially the insightful students who can see right through their pathetic teachers' pomp the pettiness of the whole situation all remind me of the schools I knew and their students When I saw the episode in which a student repeatedly tried to burn down the school I immediately recalled at High A classic line: INSPECTOR: I'm here to sack one of your teachers STUDENT: Welcome to Bromwell High I expect that many adults of my age think that Bromwell High is far fetched What a pity that it isn't \n",
      "\n",
      "Homelessness or Houselessness as George Carlin stated has been an issue for years but never a plan to help those on the street that were once considered human who did everything from going to school work or vote for the matter Most people think of the homeless as just a lost cause while worrying about things such as racism the war on Iraq pressuring kids to succeed technology the elections inflation or worrying if they'll be next to end up on the streetsBut what if you were given a bet to live on the streets for a month without the luxuries you once had from a home the entertainment sets a bathroom pictures on the wall a computer and everything you once treasure to see what it's like to be homeless? That is Goddard Bolt's lessonMel Brooks who directs who stars as Bolt plays a rich man who has everything in the world until deciding to make a bet with a sissy rival Jeffery Tambor to see if he can live in the streets for thirty days without the luxuries; if Bolt succeeds he can do what he wants with a future project of making more buildings The bet's on where Bolt is thrown on the street with a bracelet on his leg to monitor his every move where he can't step off the sidewalk He's given the nickname Pepto by a vagrant after it's written on his forehead where Bolt meets other characters including a woman by the name of Molly Lesley Ann Warren an ex-dancer who got divorce before losing her home and her pals Sailor Howard Morris and Fumes Teddy Wilson who are already used to the streets They're survivors Bolt isn't He's not used to reaching mutual agreements like he once did when being rich where it's fight or flight kill or be killedWhile the love connection between Molly and Bolt wasn't necessary to plot I found Life Stinks to be one of Mel Brooks' observant films where prior to being a comedy it shows a tender side compared to his slapstick work such as Blazing Saddles Young Frankenstein or Spaceballs for the matter to show what it's like having something valuable before losing it the next day or on the other hand making a stupid bet like all rich people do when they don't know what to do with their money Maybe they should give it to the homeless instead of using it like Monopoly moneyOr maybe this film will inspire you to help others \n",
      "\n",
      "Brilliant over-acting by Lesley Ann Warren Best dramatic hobo lady I have ever seen and love scenes in clothes warehouse are second to none The corn on face is a classic as good as anything in Blazing Saddles The take on lawyers is also superb After being accused of being a turncoat selling out his boss and being dishonest the lawyer of Pepto Bolt shrugs indifferently I'm a lawyer he says Three funny words Jeffrey Tambor a favorite from the later Larry Sanders show is fantastic here too as a mad millionaire who wants to crush the ghetto His character is more malevolent than usual The hospital scene and the scene where the homeless invade a demolition site are all-time classics Look for the legs scene and the two big diggers fighting one bleeds This movie gets better each time I see it which is quite often \n",
      "\n"
     ]
    }
   ],
   "source": [
    "# Your turn!\n",
    "# Create a Regex to preprocess x_train and save result in x_train_pre\n",
    "# Which chars and string pattern should be removed? (Have you noticed any html-tags in the samples?)\n",
    "\n",
    "x_train_pre = []\n",
    "\n",
    "removeBr = \"\"\n",
    "\n",
    "for sample in x_train:\n",
    "    removeBr = re.sub('[\\()!.,\\|\\+\"#]|<br />|<br>', '', sample) #Remove single chars and string patterns\n",
    "    removeBr = re.sub('\\s+', ' ', removeBr.strip())\n",
    "\n",
    "    x_train_pre.append(removeBr)\n",
    "\n",
    "for sample in x_train_pre[0:3]:\n",
    "    print(sample,\"\\n\")"
   ]
  },
  {
   "cell_type": "code",
   "execution_count": 5,
   "metadata": {},
   "outputs": [
    {
     "name": "stdout",
     "output_type": "stream",
     "text": [
      "['i will lower case this string using str.lower()', 'this one as well']\n"
     ]
    }
   ],
   "source": [
    "# Lower case\n",
    "# Should we lower case our data? Why? \n",
    "\n",
    "#Example:\n",
    "x = ['I wiLL LoWeR case THIS STRING using str.lower()', 'THis OnE aS WelL']\n",
    "x = [sample.lower() for sample in x] \n",
    "print(x)"
   ]
  },
  {
   "cell_type": "code",
   "execution_count": 6,
   "metadata": {},
   "outputs": [
    {
     "name": "stdout",
     "output_type": "stream",
     "text": [
      "bromwell high is a cartoon comedy it ran at the same time as some other programs about school life such as teachers my 35 years in the teaching profession lead me to believe that bromwell high's satire is much closer to reality than is teachers the scramble to survive financially the insightful students who can see right through their pathetic teachers' pomp the pettiness of the whole situation all remind me of the schools i knew and their students when i saw the episode in which a student repeatedly tried to burn down the school i immediately recalled at high a classic line: inspector: i'm here to sack one of your teachers student: welcome to bromwell high i expect that many adults of my age think that bromwell high is far fetched what a pity that it isn't \n",
      "\n",
      "homelessness or houselessness as george carlin stated has been an issue for years but never a plan to help those on the street that were once considered human who did everything from going to school work or vote for the matter most people think of the homeless as just a lost cause while worrying about things such as racism the war on iraq pressuring kids to succeed technology the elections inflation or worrying if they'll be next to end up on the streetsbut what if you were given a bet to live on the streets for a month without the luxuries you once had from a home the entertainment sets a bathroom pictures on the wall a computer and everything you once treasure to see what it's like to be homeless? that is goddard bolt's lessonmel brooks who directs who stars as bolt plays a rich man who has everything in the world until deciding to make a bet with a sissy rival jeffery tambor to see if he can live in the streets for thirty days without the luxuries; if bolt succeeds he can do what he wants with a future project of making more buildings the bet's on where bolt is thrown on the street with a bracelet on his leg to monitor his every move where he can't step off the sidewalk he's given the nickname pepto by a vagrant after it's written on his forehead where bolt meets other characters including a woman by the name of molly lesley ann warren an ex-dancer who got divorce before losing her home and her pals sailor howard morris and fumes teddy wilson who are already used to the streets they're survivors bolt isn't he's not used to reaching mutual agreements like he once did when being rich where it's fight or flight kill or be killedwhile the love connection between molly and bolt wasn't necessary to plot i found life stinks to be one of mel brooks' observant films where prior to being a comedy it shows a tender side compared to his slapstick work such as blazing saddles young frankenstein or spaceballs for the matter to show what it's like having something valuable before losing it the next day or on the other hand making a stupid bet like all rich people do when they don't know what to do with their money maybe they should give it to the homeless instead of using it like monopoly moneyor maybe this film will inspire you to help others \n",
      "\n",
      "brilliant over-acting by lesley ann warren best dramatic hobo lady i have ever seen and love scenes in clothes warehouse are second to none the corn on face is a classic as good as anything in blazing saddles the take on lawyers is also superb after being accused of being a turncoat selling out his boss and being dishonest the lawyer of pepto bolt shrugs indifferently i'm a lawyer he says three funny words jeffrey tambor a favorite from the later larry sanders show is fantastic here too as a mad millionaire who wants to crush the ghetto his character is more malevolent than usual the hospital scene and the scene where the homeless invade a demolition site are all-time classics look for the legs scene and the two big diggers fighting one bleeds this movie gets better each time i see it which is quite often \n",
      "\n"
     ]
    }
   ],
   "source": [
    "# Your turn! \n",
    "# Lower case x_train_pre if you believe it should so.\n",
    "x_train_pre = [sample.lower() for sample in x_train_pre]\n",
    "\n",
    "for sample in x_train_pre[0:3]:\n",
    "    print(sample,\"\\n\")"
   ]
  },
  {
   "cell_type": "markdown",
   "metadata": {
    "tags": []
   },
   "source": [
    "## Quantitative data exploration"
   ]
  },
  {
   "cell_type": "code",
   "execution_count": 7,
   "metadata": {},
   "outputs": [
    {
     "name": "stdout",
     "output_type": "stream",
     "text": [
      "Average length positive 232.6\n",
      "Average length negative: 226.5\n"
     ]
    },
    {
     "data": {
      "text/plain": "[]"
     },
     "execution_count": 7,
     "metadata": {},
     "output_type": "execute_result"
    },
    {
     "data": {
      "text/plain": "<Figure size 1500x500 with 2 Axes>",
      "image/png": "[encoded data removed]"
     },
     "metadata": {},
     "output_type": "display_data"
    }
   ],
   "source": [
    "# Let's make some sample staistics\n",
    "# Here we will calculate and plot the sentence length of x_train\n",
    "\n",
    "import math\n",
    "import matplotlib.pylab as plt\n",
    "import numpy as np\n",
    "\n",
    "# Function for calculation of length and average length of samples\n",
    "def avg_length(samples):\n",
    "    length = [len(sample.split()) for sample in samples]\n",
    "    return len(length), round(sum(length)/len(length),1), length\n",
    "\n",
    "# Create list of positive and negative samples\n",
    "positive = [s for i, s in enumerate(x_train_pre) if y_train[i]==1]\n",
    "negative= [s for i, s in enumerate(x_train_pre) if y_train[i]==0]\n",
    "\n",
    "# Calculate length and average length of each class\n",
    "_, avg_positive, length_positive = avg_length(positive)\n",
    "_, avg_negative, length_negative = avg_length(negative)\n",
    "print(\"Average length positive {}\\nAverage length negative: {}\".format(avg_positive, avg_negative))\n",
    "\n",
    "#Plot results\n",
    "fig, ax = plt.subplots(1,2, figsize=(15,5)) \n",
    "bins = np.linspace(0, 1200, 100)\n",
    "bins1 = np.linspace(0, 1200, 100)\n",
    "\n",
    "ax[0].title.set_text('Positive')\n",
    "ax[1].title.set_text('Negative')\n",
    "\n",
    "ax[0].set_ylabel('Number of sentences')\n",
    "ax[0].set_xlabel('Sentence length')\n",
    "\n",
    "ax[0].hist(length_positive, bins=bins)\n",
    "ax[1].hist(length_negative, bins=bins1)\n",
    "plt.plot()"
   ]
  },
  {
   "cell_type": "code",
   "execution_count": 8,
   "metadata": {},
   "outputs": [],
   "source": [
    "# Do you notice something eye cathing in the above graphs and results?\n",
    "# Can we use the sentence length to make a classification of positive vs. negative?"
   ]
  },
  {
   "cell_type": "code",
   "execution_count": 9,
   "metadata": {},
   "outputs": [
    {
     "name": "stdout",
     "output_type": "stream",
     "text": [
      "[('the', 327316), ('and', 161509), ('a', 161165), ('of', 145096), ('to', 134769), ('is', 106566), ('in', 92090), ('it', 75613), ('this', 72767), ('i', 72324), ('that', 68912), ('was', 47927), ('as', 45997), ('with', 43684), ('for', 43628), ('movie', 41195), ('but', 40963), ('film', 36978), ('on', 33232), ('not', 29908)]\n",
      "Word count of 'fantastic':  764\n"
     ]
    }
   ],
   "source": [
    "# Let's calculate the most common words\n",
    "\n",
    "from collections import Counter\n",
    "#Merge all samples to a single string\n",
    "all_words = ' '.join(x_train_pre)\n",
    "#Split using spaces\n",
    "all_words = all_words.split()\n",
    "# Pass all_words list to instance of Counter class.\n",
    "Counter = Counter(all_words)\n",
    "# Most_common() produces k frequently encountered input values and their respective counts.\n",
    "most_occur = Counter.most_common(20)\n",
    "print(most_occur)\n",
    "print(\"Word count of 'fantastic': \", Counter['fantastic'])"
   ]
  },
  {
   "cell_type": "code",
   "execution_count": 10,
   "metadata": {},
   "outputs": [
    {
     "name": "stdout",
     "output_type": "stream",
     "text": [
      "[('the', 168534), ('and', 88494), ('a', 82680), ('of', 76465), ('to', 66298), ('is', 56898), ('in', 49246), ('it', 37740), ('i', 34003), ('that', 33875), ('this', 33590), ('as', 25819), ('with', 23039), ('for', 22118), ('was', 21800), ('but', 20011), ('film', 19393), ('movie', 17955), ('his', 17119), ('on', 16533)]\n",
      "[('the', 158782), ('a', 78485), ('and', 73015), ('of', 68631), ('to', 68471), ('is', 49668), ('in', 42844), ('this', 39177), ('i', 38321), ('it', 37873), ('that', 35037), ('was', 26127), ('movie', 23240), ('for', 21510), ('but', 20952), ('with', 20645), ('as', 20178), ('film', 17585), ('on', 16699), ('not', 15916)]\n"
     ]
    }
   ],
   "source": [
    "# Your turn! \n",
    "# Calculate most occuring words for each class \n",
    "## Remember that we added positive samples to the list 'positive' and negatives in the list 'negative' earlier which can be used here\n",
    "# Do we see different distributions in negatively and positively charged words in the different classes?  \n",
    "# E.g., for each class, how many samples include the word 'fantastic'? What about 'terrible'? Experiment with a few words\n",
    "# Can we use this for classification?\n",
    "# If the most occuring words are similar in each class, we could use this as a way to define stop words (You don't have to do this now, it's just a consideration).\n",
    "\n",
    "from collections import Counter\n",
    "\n",
    "#Merge all samples to a single string\n",
    "all_words = ' '.join(positive)\n",
    "#Split using spaces\n",
    "all_words = all_words.split()\n",
    "# Pass all_words list to instance of Counter class.\n",
    "counter = Counter(all_words)\n",
    "# Most_common() produces k frequently encountered input values and their respective counts.\n",
    "most_occur = counter.most_common(20)\n",
    "print(most_occur)\n",
    "\n",
    "#Merge all samples to a single string\n",
    "all_words = ' '.join(negative)\n",
    "#Split using spaces\n",
    "all_words = all_words.split()\n",
    "# Pass all_words list to instance of Counter class.\n",
    "counter = Counter(all_words)\n",
    "# Most_common() produces k frequently encountered input values and their respective counts.\n",
    "most_occur = counter.most_common(20)\n",
    "print(most_occur)"
   ]
  },
  {
   "cell_type": "markdown",
   "metadata": {
    "tags": []
   },
   "source": [
    "## Prepare data for input to neural network\n",
    " - 1\\) Create word dictionary using Keras' tokenizer layer\n",
    " - 2\\) Transform each sample to list of integers using the word dictionary\n",
    " - 3\\) Pad all samples\n",
    " - 4\\) Split into train and validation data"
   ]
  },
  {
   "cell_type": "code",
   "execution_count": 11,
   "metadata": {},
   "outputs": [
    {
     "name": "stderr",
     "output_type": "stream",
     "text": [
      "2022-12-15 21:48:41.597344: I tensorflow/core/platform/cpu_feature_guard.cc:193] This TensorFlow binary is optimized with oneAPI Deep Neural Network Library (oneDNN) to use the following CPU instructions in performance-critical operations:  SSE4.1 SSE4.2 AVX AVX2 FMA\n",
      "To enable them in other operations, rebuild TensorFlow with the appropriate compiler flags.\n"
     ]
    },
    {
     "name": "stdout",
     "output_type": "stream",
     "text": [
      "Found 169264 unique tokens.\n",
      "Top x words in word_index dictionary:\n",
      " [('the', 1), ('and', 2), ('a', 3), ('of', 4), ('to', 5)]\n"
     ]
    }
   ],
   "source": [
    "# Create word dictionary\n",
    "\n",
    "import tensorflow as tf\n",
    "from tensorflow.keras.preprocessing.text import Tokenizer\n",
    "from tensorflow.keras.preprocessing.sequence import pad_sequences\n",
    "import numpy as np\n",
    "\n",
    "max_words = 50000\n",
    "# Use Keras tokenizer to split words into tokens using spaces and to build the word index\n",
    "tokenizer = Tokenizer(num_words=max_words, filters='', lower=True, split=' ', oov_token=None)\n",
    "                    # 'Num_words': Only consider max_words-1 most frequent words - the other words will get index=OOV_token. If oov_token=None: words not in top x are ignored.\n",
    "                    # 'Filter': Keras also provides a simple way to filter (remove) special tokens but we've already taken care of the preprocessing. Well done :-)\n",
    "                    # 'lower': If True, lowercases the text corpus\n",
    "                    # 'split': We tokenize our corpus using spaces\n",
    "\n",
    "# Fit on x_train_pre\n",
    "tokenizer.fit_on_texts(x_train_pre) #Builds the word index\n",
    "# Get word_index for inspection\n",
    "word_index = tokenizer.word_index\n",
    "print('Found {} unique tokens.'.format(len(word_index)))\n",
    "print(\"Top x words in word_index dictionary:\\n\", list(word_index.items())[:5])"
   ]
  },
  {
   "cell_type": "code",
   "execution_count": 12,
   "metadata": {},
   "outputs": [
    {
     "name": "stdout",
     "output_type": "stream",
     "text": [
      "Shape of samples: (25000, 150)\n",
      "Shape of labels: (25000,)\n",
      "\n",
      "Original sentence: bromwell high is a cartoon comedy it ran at the same time as some other programs about school life such as teachers my 35 years in the teaching profession lead me to believe that bromwell high's satire is much closer to reality than is teachers the scramble to survive financially the insightful students who can see right through their pathetic teachers' pomp the pettiness of the whole situation all remind me of the schools i knew and their students when i saw the episode in which a student repeatedly tried to burn down the school i immediately recalled at high a classic line: inspector: i'm here to sack one of your teachers student: welcome to bromwell high i expect that many adults of my age think that bromwell high is far fetched what a pity that it isn't\n",
      "Sequence sentence: [    0     0     0     0     0     0     0     0     0     0     0     0\n",
      "     0     0     0     0 22496   323     6     3  1071   222     8  2045\n",
      "    28     1   167    60    13    45    79  5704    40   403   120   132\n",
      "    13  5231    57  5232   148     7     1  4811  5963   470    68     5\n",
      "   256    11 22496  1952     6    71  2302     5   636    69     6  5231\n",
      "     1 26306     5  2014 10610     1  5822  1468    33    66    65   219\n",
      "   139    62  1209 22497     1 46158     4     1   213   901    29  2867\n",
      "    68     4     1  5705    10   664     2    62  1468    51    10   205\n",
      "     1   387     7    58     3  1473  3604   767     5  3575   186     1\n",
      "   403    10  1178 14286    28   323     3   349  5120   147   135     5\n",
      "  9247    27     4   123  5231  2414     5 22496   323    10   516    11\n",
      "   105  1440     4    57   588   101    11 22496   323     6   232  8852\n",
      "    46     3  2274    11     8   208]\n"
     ]
    }
   ],
   "source": [
    "# Transform each sample to list of integers using the word dictionary. \n",
    "\n",
    "# Turn strings into lists of integers using Keras text_to_seq layer which uses the word index we created above\n",
    "sequences = tokenizer.texts_to_sequences(x_train_pre) \n",
    "#Padding and truncation: Define maximum length of input sample that we want to feed to the neural network (if sample is longer we'll truncate it)\n",
    "maxlen = 150 # What should this be? What are the pros and cons?\n",
    "sequences = pad_sequences(sequences, maxlen=maxlen, padding='pre', truncating='pre') #Is it resonable to use 'pre' padding and truncation?\n",
    "y_train = np.asarray(y_train)\n",
    "print('Shape of samples:', sequences.shape)\n",
    "print('Shape of labels:', y_train.shape)\n",
    "print(\"\\nOriginal sentence: {}\\nSequence sentence: {}\".format(x_train_pre[0], sequences[0]))"
   ]
  },
  {
   "cell_type": "code",
   "execution_count": 13,
   "metadata": {},
   "outputs": [],
   "source": [
    "# Shuffle the dataset\n",
    "np.random.seed(1234)\n",
    "indices = np.random.permutation(sequences.shape[0])\n",
    "sequences_ = sequences[indices]\n",
    "y_train_ = y_train[indices]\n",
    "\n",
    "#Shuffle the preprocessed text data as well\n",
    "x_train_pre = np.asarray(x_train_pre)\n",
    "x_train_pre = x_train_pre[indices]"
   ]
  },
  {
   "cell_type": "code",
   "execution_count": 14,
   "metadata": {},
   "outputs": [
    {
     "name": "stdout",
     "output_type": "stream",
     "text": [
      "Training samples: 20000\n",
      "Validation samples: 5000\n"
     ]
    }
   ],
   "source": [
    "# Split samples into train and validation set\n",
    "# How many samples do you want to train with and how many for evaluation - why?\n",
    "training_samples = 20000\n",
    "validation_samples = len(sequences_)-training_samples\n",
    "x_train_seq = sequences_[:training_samples]\n",
    "y_train_seq = y_train_[:training_samples]\n",
    "x_val_seq = sequences_[training_samples: training_samples + validation_samples]\n",
    "y_val_seq = y_train_[training_samples: training_samples + validation_samples]\n",
    "print('Training samples:', len(x_train_seq))\n",
    "print('Validation samples:', len(x_val_seq))\n",
    "#print(x_val_seq[0])"
   ]
  },
  {
   "cell_type": "markdown",
   "metadata": {
    "tags": []
   },
   "source": [
    "## Prepare pretrained word embeddings for Keras embedding layer\n",
    " - Which word embeddings do you want to work with? FastText, GloVe, other? Why?"
   ]
  },
  {
   "cell_type": "code",
   "execution_count": 20,
   "metadata": {},
   "outputs": [
    {
     "name": "stdout",
     "output_type": "stream",
     "text": [
      "Embedding 300\n",
      "(50000, 300)\n"
     ]
    },
    {
     "name": "stderr",
     "output_type": "stream",
     "text": [
      "Warning : `load_model` does not return WordVectorModel or SupervisedModel any more, but a `FastText` object which is very similar.\n"
     ]
    },
    {
     "data": {
      "text/plain": "  0%|          | 0/169264 [00:00<?, ?it/s]",
      "application/vnd.jupyter.widget-view+json": {
       "version_major": 2,
       "version_minor": 0,
       "model_id": "294dd08a58f448cea29d1441d3b52144"
      }
     },
     "metadata": {},
     "output_type": "display_data"
    },
    {
     "name": "stdout",
     "output_type": "stream",
     "text": [
      "Are word embedding marix and word_index aligned?: True\n"
     ]
    }
   ],
   "source": [
    "# FastText word embeddings\n",
    "\n",
    "#Downloads English Fasttext word embeddings\n",
    "#!pip install fasttext\n",
    "import fasttext.util\n",
    "from tqdm.notebook import tqdm\n",
    "fasttext.util.download_model('en', if_exists='ignore') \n",
    "#Load model\n",
    "ft_model = fasttext.load_model('cc.en.300.bin') \n",
    "\n",
    "embedding_dim=ft_model.get_dimension() #Get word embedding dimension\n",
    "print(\"Embedding:\", embedding_dim)\n",
    "\n",
    "#Create our embedding matrix\n",
    "embedding_matrix = np.zeros((max_words, embedding_dim))\n",
    "print(embedding_matrix.shape)\n",
    "for word, i in tqdm(word_index.items()):\n",
    "    if i < max_words:\n",
    "        embedding_matrix[i] = ft_model[word] #Add words to matrix\n",
    "print(\"Are word embedding marix and word_index aligned?: {}\".format(np.array_equal(ft_model['movie'], embedding_matrix[word_index['movie']])))"
   ]
  },
  {
   "cell_type": "markdown",
   "source": [],
   "metadata": {
    "collapsed": false
   }
  },
  {
   "cell_type": "code",
   "execution_count": 16,
   "metadata": {},
   "outputs": [
    {
     "name": "stdout",
     "output_type": "stream",
     "text": [
      "Found 400000 word vectors.\n",
      "\n",
      "number of OOV words:  11302 \n",
      "Examples:\n",
      "['$250', '$2500', '$25000', '$250000', '$299', '$3', '$30', '$300', '$3000', '$3000000']\n"
     ]
    }
   ],
   "source": [
    "# GloVe word embeddings\n",
    "\n",
    "# Download english embeddings from https://nlp.stanford.edu/projects/glove/ \n",
    "#!wget http://nlp.stanford.edu/data/glove.6B.zip\n",
    "#!unzip -q glove.6B.zip\n",
    "\n",
    "# Add directory of your word embeddings\n",
    "glove_dir = '/Users/berkankutuk/Desktop/Deep-learning-nlp/glove.6B/glove.6B.100d.txt'\n",
    "embeddings_index = {} #Dictionary for our word embeddings\n",
    "\n",
    "#Load embeddings into dictionary\n",
    "f = open(glove_dir, encoding=\"utf8\")\n",
    "for line in f:\n",
    "    values = line.split()\n",
    "    word = values[0]\n",
    "    coefs = np.asarray(values[1:], dtype='float32')\n",
    "    embeddings_index[word] = coefs\n",
    "f.close()\n",
    "print('Found {} word vectors.'.format(len(embeddings_index)))\n",
    "\n",
    "#Preparing the GloVe word-embeddings matrix\n",
    "embedding_dim=100\n",
    "#Create our embedding matrix\n",
    "embedding_matrix = np.zeros((max_words, embedding_dim))\n",
    "oov_words=[]\n",
    "\n",
    "for word, i in word_index.items():\n",
    "    if i < max_words:\n",
    "        embedding_vector = embeddings_index.get(word) \n",
    "        if embedding_vector is not None:\n",
    "            embedding_matrix[i] = embedding_vector #Add words to matrix\n",
    "        else:\n",
    "            oov_words.append(word) #words not in vocab! They will get zero-vectors\n",
    "print(\"\\nnumber of OOV words: \", len(oov_words), \"\\nExamples:\")\n",
    "oov_words.sort()\n",
    "print(oov_words[20:30])"
   ]
  },
  {
   "cell_type": "code",
   "execution_count": 17,
   "metadata": {},
   "outputs": [
    {
     "name": "stdout",
     "output_type": "stream",
     "text": [
      "\n",
      "number of OOV words:  14096 \n",
      "Examples:\n",
      "['$250', '$2500', '$25000', '$250000', '$299', '$3', '$30', '$300', '$3000', '$3000000']\n"
     ]
    }
   ],
   "source": [
    "# Load embeddings using Gensim\n",
    "\n",
    "#Gensim has the following pretrained models ready to load:  \n",
    "# 'conceptnet-numberbatch-17-06-300': ConceptNet Numberbatch consists of state-of-the-art semantic vectors\n",
    "# 'fasttext-wiki-news-subwords-300': 1 million word vectors trained on Wikipedia 2017, UMBC webbase corpus and statmt.org news dataset (16B tokens).\n",
    "# 'glove-twitter-100': Pre-trained vectors based on  2B tweets, 27B tokens, 1.2M vocab, uncased.\n",
    "# 'glove-twitter-200': Pre-trained vectors based on 2B tweets, 27B tokens, 1.2M vocab, uncased.\n",
    "# 'glove-twitter-25': Pre-trained vectors based on 2B tweets, 27B tokens, 1.2M vocab, uncased.\n",
    "# 'glove-twitter-50': Pre-trained vectors based on 2B tweets, 27B tokens, 1.2M vocab, uncased.\n",
    "# 'glove-wiki-gigaword-100': Pre-trained vectors based on Wikipedia 2014 + Gigaword 5.6B tokens, 400K vocab, uncased.\n",
    "# 'glove-wiki-gigaword-200': Pre-trained vectors based on Wikipedia 2014 + Gigaword, 5.6B tokens, 400K vocab, uncased.\n",
    "# 'glove-wiki-gigaword-300': Pre-trained vectors based on Wikipedia 2014 + Gigaword, 5.6B tokens, 400K vocab, uncased.\n",
    "# 'glove-wiki-gigaword-50': Pre-trained vectors based on Wikipedia 2014 + Gigaword, 5.6B tokens, 400K vocab, uncased.\n",
    "# 'word2vec-google-news-300': Pre-trained vectors trained on a part of the Google News dataset (about 100 billion words). The model contains 300-dimensional vectors for 3 million words and phrases.\n",
    "# 'word2vec-ruscorpora-300': Word2vec Continuous Skipgram vectors trained on full Russian National Corpus (about 250M words).\n",
    "\n",
    "import gensim\n",
    "from gensim.models.word2vec import Word2Vec\n",
    "from gensim.test.utils import datapath\n",
    "from gensim.models import KeyedVectors\n",
    "from gensim.models.fasttext import load_facebook_model\n",
    "import gensim.downloader as api\n",
    "model = api.load(\"fasttext-wiki-news-subwords-300\")\n",
    "#Define embedding dimensions\n",
    "embedding_dim=300\n",
    "#Create our embedding matrix\n",
    "embedding_matrix = np.zeros((max_words, embedding_dim))\n",
    "oov_words=[]\n",
    "\n",
    "for word, i in word_index.items():\n",
    "    if i < max_words: \n",
    "        if model.has_index_for(word):\n",
    "            embedding_matrix[i] = model.get_vector(word) #Add words to matrix\n",
    "        else:\n",
    "            oov_words.append(word) #words not in vocab! They will get zero-vectors\n",
    "print(\"\\nnumber of OOV words: \", len(oov_words), \"\\nExamples:\")\n",
    "oov_words.sort()\n",
    "print(oov_words[20:30])"
   ]
  },
  {
   "cell_type": "markdown",
   "metadata": {
    "tags": []
   },
   "source": [
    "## Train a classifier\n",
    " - How does the model performance change for:\n",
    " - GRU or LSTM vs. CNN\n",
    " - CNN: How many filters and which size should we use? You can also try using differet filter sizes in the same model (use the functional Keras API). \n",
    " - RNN: What should the hidden size be? Does it help to stack layers? Do you find any difference between LSTM and GRU\n",
    " - Random initialized word embeddings vs. pretrained? \n",
    " - There are many architectures and hyperparameters to explore - of course you can't explore all of them. "
   ]
  },
  {
   "cell_type": "code",
   "execution_count": 26,
   "metadata": {},
   "outputs": [
    {
     "name": "stdout",
     "output_type": "stream",
     "text": [
      "Epoch 1/5\n",
      "625/625 [==============================] - 12s 17ms/step - loss: 0.5729 - acc: 0.6935 - val_loss: 0.4652 - val_acc: 0.7854\n",
      "Epoch 2/5\n",
      "625/625 [==============================] - 11s 18ms/step - loss: 0.4278 - acc: 0.8042 - val_loss: 0.4161 - val_acc: 0.8098\n",
      "Epoch 3/5\n",
      "625/625 [==============================] - 11s 18ms/step - loss: 0.3719 - acc: 0.8336 - val_loss: 0.4010 - val_acc: 0.8122\n",
      "Epoch 4/5\n",
      "625/625 [==============================] - 11s 17ms/step - loss: 0.3337 - acc: 0.8569 - val_loss: 0.3937 - val_acc: 0.8204\n",
      "Epoch 5/5\n",
      "625/625 [==============================] - 10s 17ms/step - loss: 0.2971 - acc: 0.8751 - val_loss: 0.4050 - val_acc: 0.8164\n"
     ]
    }
   ],
   "source": [
    "# Train model\n",
    "from tensorflow.keras.models import Sequential\n",
    "from tensorflow.keras.layers import Embedding, Input, SimpleRNN, MaxPooling1D, Concatenate, Dense, Flatten, LSTM, GRU, Bidirectional, Dropout, GlobalMaxPooling1D, MaxPooling1D, Conv1D\n",
    "from tensorflow.keras.optimizers import RMSprop, Adam\n",
    "from tensorflow.keras.models import Model, load_model\n",
    "\n",
    "# Create a classifier using a CNN or RNN/LSTM/GRU\n",
    "#RNN model\n",
    "def build_model():\n",
    "    model = Sequential()\n",
    "    model.add(Embedding(max_words, embedding_dim,\n",
    "                        input_length=None, \n",
    "                        weights=[embedding_matrix], #Delete 'weights=[embedding_matrix]' in order to train with random initialized word embeddings\n",
    "                        trainable=False))\n",
    "    model.add(Conv1D(32,7, activation='relu'))\n",
    "    model.add(MaxPooling1D(5))\n",
    "    model.add(Conv1D(32,7, activation='relu'))\n",
    "    model.add(GlobalMaxPooling1D())\n",
    "\n",
    "    model.add(Dense(2, activation='softmax')) #Classification layer - you could also use a sigmoid activation if you prefer\n",
    "    return model\n",
    "\n",
    "#Build model\n",
    "model = build_model()\n",
    "\n",
    "# Set some training hyperparameters (Change them to whatever you prefer)\n",
    "epochs = 5\n",
    "batch_size= 32\n",
    "learning_rate = 0.0005\n",
    "opt = Adam(learning_rate=learning_rate)\n",
    "\n",
    "#Compile \n",
    "model.compile(loss=\"sparse_categorical_crossentropy\", optimizer=opt, metrics=[\"acc\"])\n",
    "history = model.fit(x_train_seq, \n",
    "                    y_train_seq,\n",
    "                    epochs=epochs,\n",
    "                    batch_size=batch_size,\n",
    "                    validation_data=(x_val_seq, y_val_seq),\n",
    "                    shuffle=True)\n",
    "\n",
    "#Save model\n",
    "model.save('IMDB_text_classifier.h5')  # creates a HDF5 file 'my_model.h5'"
   ]
  },
  {
   "cell_type": "markdown",
   "metadata": {},
   "source": [
    "### Plot training"
   ]
  },
  {
   "cell_type": "code",
   "execution_count": 27,
   "metadata": {},
   "outputs": [
    {
     "data": {
      "text/plain": "<Figure size 640x480 with 1 Axes>",
      "image/png": "[encoded data removed]"
     },
     "metadata": {},
     "output_type": "display_data"
    },
    {
     "data": {
      "text/plain": "<Figure size 640x480 with 1 Axes>",
      "image/png": "[encoded data removed]"
     },
     "metadata": {},
     "output_type": "display_data"
    }
   ],
   "source": [
    "#Plotting results\n",
    "acc = history.history['acc']\n",
    "val_acc = history.history['val_acc']\n",
    "loss = history.history['loss']\n",
    "val_loss = history.history['val_loss']\n",
    "\n",
    "epochs = range(1, len(acc) + 1)\n",
    "\n",
    "plt.plot(epochs, acc, 'bo', label='Training acc')\n",
    "plt.plot(epochs, val_acc, 'b', label='Validation acc')\n",
    "plt.title('Training and validation accuracy')\n",
    "plt.legend()\n",
    "\n",
    "plt.figure()\n",
    "\n",
    "plt.plot(epochs, loss, 'bo', label='Training loss')\n",
    "plt.plot(epochs, val_loss, 'b', label='Validation loss')\n",
    "plt.title('Training and validation loss')\n",
    "plt.legend()\n",
    "plt.show()"
   ]
  },
  {
   "cell_type": "markdown",
   "metadata": {
    "tags": []
   },
   "source": [
    "## Test you classifier on the test set\n",
    " - We have not prepared x_test and y_test for test. That's now up to you :-) \n",
    " - When you have your result: Study the mistakes of the classifier - do you see a pattern? Could we have done something differently? \n",
    " - Maybe we could have done better using data augmentation?\n",
    " - Remember: Even though you find ways to improve your result, once you have tested your classifier on the test set and reported the result, you can't go back and change your classifier and report a better one. If you wan't to make changes to the classifier based on an analysis of the classifier, you should make the analysis using the validation dataset. You have the possibility to do this in your final report. "
   ]
  },
  {
   "cell_type": "code",
   "execution_count": 33,
   "metadata": {},
   "outputs": [
    {
     "name": "stdout",
     "output_type": "stream",
     "text": [
      "wrestlemania 14 is not often looked as one of the great wrestlemania's but i would personally put it in my top 5 if not the top 3 it has so many great things and it truly signified the birth of the attitude era which was wwe's best era in my opinion hbk has the heart of a lion and him putting over austin like he did on his way out was pure class on his part it has one of the hottest crowds you will ever see and it has jr and the king at their announcing best matches15  team battle royal loud pop for lod's return i'm not a fan of battle royal's and this is yet another average one very predictable even when you 1st see it it's obvious lod would win looking at sunny for 8 or so minutes though definitely helps 2/5wwf light heavyweight championshiptaka michinokuc vs aguilataka gets a surprising pop with his entrance fast high-flying and very exciting if these two had more time they would have surely tore the roof off with their stuff taka wins with the michinoku driver3 1/2 /5wwf european championshiptriple hc vs owen hart stipulation here is chyna is handcuffed to slaughter nice pop for owen mixed reaction for trips a really really underrated match that ranks among one of my favorites for wrestlemania actually the two mixed together very well and owen can go with anybody trips wins with chyna interference4/5mixed tag match marc mero&sable vs goldust&luna defining pop for sable unheard of that time for woman sable actually looks hot and the crowd is just eating her up constant sable chants and them erupting almost every time she gets in the ring not bad for a mixed tag match it had entertaining antics and passed the time well sable's team wins when sable hits the tko2 1/2 /5wwf intercontinental championship ken shamrock vs the rockc before i review the match i'd like to note the rock showed off his immense potential with his interview with jennifer flowers before his match nice pop for shamrock big time heat for the rock too disappointingly short and i thought the ending was kinda stupid though shamrock's snapping antics were awesome to see and the crowd went nuts for it rock keeps the title when the ref reverses the decision2/5dumpster match for the wwf tag team championshipcatcus jack&terry funk vs the new age outlaws the outlaws are not as over as they were gonna be at this time crowd is actually somewhat dead for this but i thought it had some great hardcore bits with some sick looking bumps cactus and terry win the titles in the end3/5the undertaker vs kane big time ovation for the undertaker much better than there outing at wrestlemania 20 and for a big man vs big man match this was really good it was a great all out brawl with the undertaker taking a sick looking bump through the table wwe was smart by making kane looking strong even through defeat after 2 tombstone kick out's taker finally puts him away with a 3rd one3 1/2 /5wwf championship special guest enforcer mike tysonhbkc vs steve austin big heat for tyson crowd goes ape sh*t for austin definitely one of the biggest pops i have heard mixed reaction for hbk this is truly a special match up one of the greatest wrestlemania main events in history you can tell when jr is even out of breath hbk gives it his all in what was supposed to be his last match and austin has rarely been better the animosity and electricity from the crowd is amazing and it's as exciting as it gets austin wins with the stunner with tyson joining 3:16 by knocking out michaels austin's celebratory victory is a wonder to behold with one of the nosiest crowd's you will ever see king said it right they were going nuts5/5bottom line wrestlemania 14 is one of the greatest for real it has everything you want in a wrestlemania and truly kick started the attitude era this is very special to me because it was the 1st wrestlemania i ever saw back in 98 the austin era has begun9 1/2 /1 \n",
      "\n",
      "ok the movie is good but i give it a 1 because the idea of a computer virus becoming an organic virus is pure fairy tale this kind of crap just adds to those uncomputer savvy moron's paranoid delusions that a computer virus is exactly like an organic virus first of all strings of code and dozens of 1s and 0s add up to computer virus an organic virus is much more complex even though it's way tinier though it's considered one of the simplest forms in the universe organic virus's attach burrow into your cells and attach themselves to the rna then change your own rna code explain to me how something like that could be processed from a monitor? maybe the radiation has some effect on the user's cornea that turns your eyeballs into these viruses? i could see that but obviously the writer didn't think of that \n",
      "\n",
      "michael winner is probably best known for his revenge-themed films such as death wish and chato's land but he is equally gifted as a director of occult horror cinema as the sentinel of 1977 proves the sentinel which is based on a novel by john konvitz who also wrote the screenplay is a clever and immensely creepy religious chiller that no lover of occult horror should consider missing the film is obviously inspired by successful occult classics such as rosemary's baby the exorcist or the omen but as far as i am concerned it is also easily as unsettling as these more widely acclaimed films and probably even creepierallison parker christina raines is a beautiful young new york model traumatized by events in her her past and not yet willing to marry her lawyer boyfriend chris sarandon allison is in search for an apartment and finds a big incredibly nice one which is also affordable in an old mansion in brooklyn the new apartment however comes along with a bunch of very strange other tenants and the sinister new neighbors soon become more than a little bothersome to alice this may not be an adequate plot synopsis but i would hate to spoil any of this film's great moments so i will not give any further plot description what i will say however is that the sentinel is a very creepy and effective film that profits from a great cast as well as an often bizarre and constantly uncanny atmosphere the fact that director michael winner and writer john konnvitz also acted as producers here certainly had its influence on the outcome the film is imaginatively photographed and the eerie old brooklyn mansion is a fantastic setting for this kind of film as mentioned above the atmosphere is obscure and creepy and the film also includes several shock-moments and genuine scares the film features many sinister and eccentric characters and the cast is superb beautiful christina raines is great in her role of allison parker lovable and yet on the cusp to losing her mind chris sarandon is also very good as her boyfriend a successful lawyer and the supporting cast includes many big names such as christopher walken jeff goldblum jerry orbach beverly d'angelo and tom berenger before becoming really famous the cast also includes stars like ava gardner horror icon john carradine burgess meredith and my personal favorite the great eli wallach as a cynical homicide detective i've been a great fan of director michael winner for a long time mostly for films like death wish and chato's land the sentinel is yet another great film in winner's repertoire and also the proof that the man is not only a master of hard-boiled revenge-cinema but also of atmospheric occult horror all in all the sentinel is a creepy intelligent and amazingly bizarre occult chiller that is highly recommended to all horror fans \n",
      "\n",
      "Shape of data tensor: (25000, 150)\n",
      "Shape of label tensor: (25000,)\n",
      "Original sentence: I went and saw this movie last night after being coaxed to by a few friends of mine I'll admit that I was reluctant to see it because from what I knew of Ashton Kutcher he was only able to do comedy I was wrong Kutcher played the character of Jake Fischer very well and Kevin Costner played Ben Randall with such professionalism The sign of a good movie is that it can toy with our emotions This one did exactly that The entire theater which was sold out was overcome by laughter during the first half of the movie and were moved to tears during the second half While exiting the theater I not only saw many women in tears but many full grown men as well trying desperately not to let anyone see them crying This movie was great and I suggest that you go see it before you judge\n",
      "Sequence sentence: [    2   205     9    16   229   312    99   107 29704     5    30     3\n",
      "   162   358     4  1916   657   915    11    10    12  5394     5    65\n",
      "     8    78    34    46    10   664     4 12933 16975    26    12    59\n",
      "   482     5    84   222    10    12   367 16975   250     1   109     4\n",
      "  3253 15332    50    77     2  1803 12076   250  1003  7657    14   132\n",
      " 12831     1  1904     4     3    48    16     6    11     8    66  3012\n",
      "    14   253  1397     9    27   115   587    11     1   416   732    58\n",
      "    12  2871    43    12  2932    30  2120   296     1    86   356     4\n",
      "     1    16     2    67  1589     5  1646   296     1   332   356   134\n",
      " 14394     1   732    10    20    59   205   105   365     7  1646    17\n",
      "   105   372  2220   350    13    77   258  2601    20     5   375   257\n",
      "    65    97  2528     9    16    12    82     2    10  1388    11    23\n",
      "   137    65     8   157    23  1868]\n"
     ]
    }
   ],
   "source": [
    "# Preprocess x_test using the regex you created for x_train\n",
    "x_test_pre = []\n",
    "\n",
    "for x in x_test:\n",
    "    new_x = re.sub('[\\()!.,\\|\\+\"#]|<br />|<br>', '', x)\n",
    "    new_x = re.sub('\\s+', ' ', new_x.strip())\n",
    "    new_x = re.sub('\\.+', ' ', new_x.strip())\n",
    "\n",
    "    x_test_pre.append(new_x)\n",
    "\n",
    "for x in x_train_pre[0:3]:\n",
    "    print(x, '\\n')\n",
    "\n",
    "#Turn strings into lists of integer indices using the word index\n",
    "x_test_seq = tokenizer.texts_to_sequences(x_test_pre)\n",
    "# Pad the text sequences\n",
    "x_test_seq = pad_sequences(x_test_seq, maxlen=maxlen, padding='pre', truncating='pre')\n",
    "#Convert y_test to numpy array\n",
    "y_test = np.asarray(y_train)\n",
    "print('Shape of data tensor:', x_test_seq.shape)\n",
    "print('Shape of label tensor:', y_test.shape)\n",
    "print(\"Original sentence: {}\\nSequence sentence: {}\".format(x_test_pre[0], x_test_seq[0]))"
   ]
  },
  {
   "cell_type": "code",
   "execution_count": 38,
   "metadata": {},
   "outputs": [
    {
     "name": "stdout",
     "output_type": "stream",
     "text": [
      "782/782 [==============================] - 7s 5ms/step - loss: 0.3979 - acc: 0.8204\n",
      "Accuracy 0.82 loss:  0.398\n"
     ]
    }
   ],
   "source": [
    "# Use model.evaluate to get your test result\n",
    "model = load_model('IMDB_text_classifier.h5')\n",
    "evaluate = model.evaluate(x_test_seq, y_test) # '(x,y)' does not work - What should we use as argument to model.evaluate? https://www.tensorflow.org/api_docs/python/tf/keras/Model#evaluate\n",
    "print(\"Accuracy\", round(evaluate[1],3), \"loss: \", round(evaluate[0],3))"
   ]
  },
  {
   "cell_type": "code",
   "execution_count": 41,
   "metadata": {},
   "outputs": [
    {
     "name": "stdout",
     "output_type": "stream",
     "text": [
      "782/782 [==============================] - 4s 5ms/step\n",
      "[[ 9316  3184]\n",
      " [ 1305 11195]]\n",
      "Precision: 0.779 Recall: 0.896 F1: 0.833\n"
     ]
    }
   ],
   "source": [
    "# Print confussion matrix using sklearn\n",
    "\n",
    "# We can get the softmax probabilities for each sample using model.predict()\n",
    "predictions=model.predict(x_test_seq) #'(x)' does not work - What should we use as argument to model.predict? https://www.tensorflow.org/api_docs/python/tf/keras/Model#predict\n",
    "\n",
    "import sklearn\n",
    "from sklearn.metrics import confusion_matrix\n",
    "confusion_matrix = sklearn.metrics.confusion_matrix(y_test, np.argmax(predictions, axis=1))\n",
    "print(confusion_matrix)\n",
    "prec_rec_f1 = sklearn.metrics.precision_recall_fscore_support(y_test, np.argmax(predictions, axis=1), average='binary')\n",
    "print(\"Precision:\",round(prec_rec_f1[0],3), \"Recall:\",round(prec_rec_f1[1],3), \"F1:\",round(prec_rec_f1[2],3))"
   ]
  },
  {
   "cell_type": "markdown",
   "metadata": {},
   "source": [
    "## Analyze the results of the classifier"
   ]
  },
  {
   "cell_type": "code",
   "execution_count": 42,
   "metadata": {},
   "outputs": [
    {
     "name": "stdout",
     "output_type": "stream",
     "text": [
      "[0.7255052 0.2744948]Night of the Hunted stars French porn star Brigitte LahaieIn factmany of the cast members in this slow-moving production were porn actors at the time of its frantic filmingThis film is certainly different than Rollin's usual lesbian vampire flicksbut it's not as memorable as for example Lips of Blood or FascinationLahaie plays an amnesiac hitchhiker who can't remember who she is or where she came fromMost of the film takes place in a modern apartment complexwhere Lahaie is being held by some kind of medical group that's treating a number of people with a similar conditionAnywayshe escapes from the monolithic office tower where the affected people are heldOn a highway outside of townshe meets a young manwho stops and picks her upNight of the Hunted offers plenty of nudityunfortunately the pace is extremely slowThe atmosphere is horribly sad and the relationship between Brigitte Lahaie and another asylum inmate Dominique Journet is well-developedStill Night of the Hunted is too dull to be completely enjoyableGive it a look only if you are a fan of Jean Rollin's works7 out of 10 and that's being kind \n",
      "\n",
      "Average softmax scores for false positives: [0.26281542 0.7371834 ]\n",
      "Average softmax scores for false negatives: [0.7167005 0.2832998]\n"
     ]
    }
   ],
   "source": [
    "# Print the false predictions and analyze: When does it make mistakes? Could we do more to help our classifier?\n",
    "##  How confident is the classifier for false predictions?\n",
    "def false_pos_neg(samples, labels, prediction):\n",
    "    fp=[] #False positives\n",
    "    fp_pred=[] # False positives predictions\n",
    "    fn=[]\n",
    "    fn_pred=[]\n",
    "    for i in range(len(samples)):\n",
    "        pred=np.argmax(prediction[i])\n",
    "        if pred!=labels[i]:\n",
    "            if pred==0:\n",
    "                fn.append(str(predictions[i])+samples[i])\n",
    "                fn_pred.append(list(predictions[i]))\n",
    "            else:\n",
    "                fp.append(str(predictions[i])+samples[i])\n",
    "                fp_pred.append(list(predictions[i]))\n",
    "    return fp, fp_pred, fn, fn_pred\n",
    "fp, fp_pred, fn, fn_pred = false_pos_neg(x_test_pre, y_test, predictions)\n",
    "print(fn[0], \"\\n\\nAverage softmax scores for false positives: {}\\nAverage softmax scores for false negatives: {}\".format(np.average(fp_pred, axis=0), np.average(fn_pred, axis=0)))"
   ]
  },
  {
   "cell_type": "code",
   "execution_count": 43,
   "metadata": {},
   "outputs": [
    {
     "name": "stdout",
     "output_type": "stream",
     "text": [
      "Average length false positive 247.1\n",
      "Average length false negative: 253.3\n"
     ]
    },
    {
     "data": {
      "text/plain": "[]"
     },
     "execution_count": 43,
     "metadata": {},
     "output_type": "execute_result"
    },
    {
     "data": {
      "text/plain": "<Figure size 1500x500 with 2 Axes>",
      "image/png": "[encoded data removed]"
     },
     "metadata": {},
     "output_type": "display_data"
    }
   ],
   "source": [
    "# If we have truncated the sentence at e.g. 150 words, it might be all the long sentences that we can't predict correctly?\n",
    "# Calculate length and average length of each false prediction list (false_pos, false_neg)\n",
    "_, avg_positive, length_positive = avg_length(fp)\n",
    "_, avg_negative, length_negative = avg_length(fn)\n",
    "print(\"Average length false positive {}\\nAverage length false negative: {}\".format(avg_positive, avg_negative))\n",
    "\n",
    "#Plot results\n",
    "fig, ax = plt.subplots(1,2, figsize=(15,5)) \n",
    "bins = np.linspace(0, 1200, 100)\n",
    "bins1 = np.linspace(0, 1200, 100)\n",
    "\n",
    "ax[0].title.set_text('False positive')\n",
    "ax[1].title.set_text('False negative')\n",
    "\n",
    "ax[0].set_ylabel('Number of sentences')\n",
    "ax[0].set_xlabel('Sentence length')\n",
    "\n",
    "ax[0].hist(length_positive, bins=bins)\n",
    "ax[1].hist(length_negative, bins=bins1)\n",
    "plt.plot()"
   ]
  }
 ],
 "metadata": {
  "kernelspec": {
   "display_name": "Python 3",
   "language": "python",
   "name": "python3"
  },
  "language_info": {
   "codemirror_mode": {
    "name": "ipython",
    "version": 3
   },
   "file_extension": ".py",
   "mimetype": "text/x-python",
   "name": "python",
   "nbconvert_exporter": "python",
   "pygments_lexer": "ipython3",
   "version": "3.6.13"
  }
 },
 "nbformat": 4,
 "nbformat_minor": 4
}
